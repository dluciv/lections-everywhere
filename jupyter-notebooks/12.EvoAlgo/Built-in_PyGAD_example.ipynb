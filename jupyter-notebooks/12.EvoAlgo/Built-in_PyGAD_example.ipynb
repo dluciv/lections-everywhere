{
 "cells": [
  {
   "cell_type": "markdown",
   "id": "ec5c8e66",
   "metadata": {},
   "source": [
    "[Вот отсюда](https://pygad.readthedocs.io/en/latest/README_pygad_ReadTheDocs.html#linear-model-optimization)"
   ]
  },
  {
   "cell_type": "code",
   "execution_count": null,
   "id": "aed1bacf",
   "metadata": {},
   "outputs": [],
   "source": [
    "import pygad\n",
    "import numpy"
   ]
  },
  {
   "cell_type": "markdown",
   "id": "75ffa36f",
   "metadata": {},
   "source": [
    "Given the following function:\n",
    "\n",
    "$$\n",
    "y = f(w_1,\\ldots, w_6) = w_1 x_1 + w_2 x_2 + w_3 x_3 + w_4 x_4 + w_5 x_5 + w_6 x_6\n",
    "$$\n",
    "\n",
    "where \n",
    "\n",
    "$$\n",
    "(x_1,x_2,x_3,x_4,x_5,x_6)=(4,-2,3.5,5,-11,-4.7); y=44\n",
    "$$\n",
    "\n",
    "What are the best values for the 6 weights (w1 to w6)? We are going to use the genetic algorithm to optimize this function."
   ]
  },
  {
   "cell_type": "code",
   "execution_count": null,
   "id": "91cbee2d",
   "metadata": {},
   "outputs": [],
   "source": [
    "function_inputs = [4,-2,3.5,5,-11,-4.7] # Function inputs.\n",
    "desired_output = 44 # Function output.\n",
    "\n",
    "def fitness_func(solution, solution_idx):\n",
    "    output = numpy.sum(solution*function_inputs)\n",
    "    fitness = 1.0 / (numpy.abs(output - desired_output) + 0.000001)\n",
    "    return fitness"
   ]
  },
  {
   "cell_type": "code",
   "execution_count": null,
   "id": "80b87379",
   "metadata": {},
   "outputs": [],
   "source": [
    "num_generations = 100 # Number of generations.\n",
    "num_parents_mating = 10 # Number of solutions to be selected as parents in the mating pool.\n",
    "\n",
    "sol_per_pop = 20 # Number of solutions in the population.\n",
    "num_genes = len(function_inputs)\n",
    "\n",
    "last_fitness = 0\n",
    "def on_generation(ga_instance):\n",
    "    global last_fitness\n",
    "    print(\"Generation = {generation}\".format(generation=ga_instance.generations_completed))\n",
    "    print(\"Fitness    = {fitness}\".format(fitness=ga_instance.best_solution(pop_fitness=ga_instance.last_generation_fitness)[1]))\n",
    "    print(\"Change     = {change}\".format(change=ga_instance.best_solution(pop_fitness=ga_instance.last_generation_fitness)[1] - last_fitness))\n",
    "    last_fitness = ga_instance.best_solution(pop_fitness=ga_instance.last_generation_fitness)[1]\n",
    "\n",
    "ga_instance = pygad.GA(num_generations=num_generations,\n",
    "                       num_parents_mating=num_parents_mating,\n",
    "                       sol_per_pop=sol_per_pop,\n",
    "                       num_genes=num_genes,\n",
    "                       fitness_func=fitness_func,\n",
    "                       on_generation=on_generation)"
   ]
  },
  {
   "cell_type": "markdown",
   "id": "a4f1d1d4",
   "metadata": {},
   "source": [
    "[Как оно будет работать](https://pygad.readthedocs.io/en/latest/README_pygad_ReadTheDocs.html#life-cycle-of-pygad)"
   ]
  },
  {
   "cell_type": "code",
   "execution_count": null,
   "id": "5a826792",
   "metadata": {},
   "outputs": [],
   "source": [
    "# Running the GA to optimize the parameters of the function.\n",
    "ga_instance.run()"
   ]
  },
  {
   "cell_type": "code",
   "execution_count": null,
   "id": "47e28875",
   "metadata": {},
   "outputs": [],
   "source": [
    "# Returning the details of the best solution.\n",
    "solution, solution_fitness, solution_idx = ga_instance.best_solution(ga_instance.last_generation_fitness)\n",
    "print(\"Parameters of the best solution : {solution}\".format(solution=solution))\n",
    "print(\"Fitness value of the best solution = {solution_fitness}\".format(solution_fitness=solution_fitness))\n",
    "print(\"Index of the best solution : {solution_idx}\".format(solution_idx=solution_idx))\n",
    "\n",
    "prediction = numpy.sum(numpy.array(function_inputs)*solution)\n",
    "print(\"Predicted output based on the best solution : {prediction}\".format(prediction=prediction))\n",
    "\n",
    "if ga_instance.best_solution_generation != -1:\n",
    "    print(\"Best fitness value reached after {best_solution_generation} generations.\".format(best_solution_generation=ga_instance.best_solution_generation))\n",
    "\n",
    "# Saving the GA instance.\n",
    "filename = 'genetic' # The filename to which the instance is saved. The name is without extension.\n",
    "ga_instance.save(filename=filename)\n",
    "\n",
    "# Loading the saved GA instance.\n",
    "loaded_ga_instance = pygad.load(filename=filename)\n",
    "loaded_ga_instance.plot_fitness()\n",
    ";"
   ]
  },
  {
   "cell_type": "code",
   "execution_count": null,
   "id": "1a125d8b",
   "metadata": {},
   "outputs": [],
   "source": []
  }
 ],
 "metadata": {
  "kernelspec": {
   "display_name": "Python 3",
   "language": "python",
   "name": "python3"
  },
  "language_info": {
   "codemirror_mode": {
    "name": "ipython",
    "version": 3
   },
   "file_extension": ".py",
   "mimetype": "text/x-python",
   "name": "python",
   "nbconvert_exporter": "python",
   "pygments_lexer": "ipython3",
   "version": "3.9.1"
  }
 },
 "nbformat": 4,
 "nbformat_minor": 5
}
