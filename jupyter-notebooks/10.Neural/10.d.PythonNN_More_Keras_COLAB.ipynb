{
  "nbformat": 4,
  "nbformat_minor": 0,
  "metadata": {
    "anaconda-cloud": {},
    "kernelspec": {
      "display_name": "Python 3",
      "language": "python",
      "name": "python3"
    },
    "language_info": {
      "codemirror_mode": {
        "name": "ipython",
        "version": 3
      },
      "file_extension": ".py",
      "mimetype": "text/x-python",
      "name": "python",
      "nbconvert_exporter": "python",
      "pygments_lexer": "ipython3",
      "version": "3.7.0"
    },
    "colab": {
      "name": "10.d.PythonNN_More_Keras_COLAB.ipynb",
      "provenance": [],
      "collapsed_sections": []
    },
    "accelerator": "GPU"
  },
  "cells": [
    {
      "cell_type": "markdown",
      "metadata": {
        "id": "4A96ezn7hwac",
        "colab_type": "text"
      },
      "source": [
        "Инспирировано https://m.habr.com/ru/company/wunderfund/blog/314242/"
      ]
    },
    {
      "cell_type": "code",
      "metadata": {
        "id": "MZLr_KCGFj5u",
        "colab_type": "code",
        "colab": {}
      },
      "source": [
        "%tensorflow_version 2.x\n",
        "%matplotlib inline"
      ],
      "execution_count": 0,
      "outputs": []
    },
    {
      "cell_type": "code",
      "metadata": {
        "id": "XriWfnpShwaf",
        "colab_type": "code",
        "outputId": "07465a78-6f90-4c49-c650-c2d7b220c5bd",
        "colab": {
          "base_uri": "https://localhost:8080/",
          "height": 34
        }
      },
      "source": [
        "import os\n",
        "import numpy as np\n",
        "\n",
        "import tensorflow as tf\n",
        "import tensorflow\n",
        "from tensorflow.keras.models import Model\n",
        "from tensorflow.keras.layers import Dense, Input\n",
        "\n",
        "import logging\n",
        "logging.getLogger('tensorflow').setLevel(logging.WARNING)\n",
        "\n",
        "# tf.enable_eager_execution()\n",
        "\n",
        "print(\"TensorFlow v\", tf.version.VERSION)"
      ],
      "execution_count": 2,
      "outputs": [
        {
          "output_type": "stream",
          "text": [
            "TensorFlow v 2.2.0\n"
          ],
          "name": "stdout"
        }
      ]
    },
    {
      "cell_type": "markdown",
      "metadata": {
        "id": "095WUZ4vhwam",
        "colab_type": "text"
      },
      "source": [
        "Зададим входные данные. `X` — два столбца ($x, y$) по 450 случайных значений. `V` — требуемое значение на выходе нейронной сети."
      ]
    },
    {
      "cell_type": "code",
      "metadata": {
        "id": "1q4xv_MXhwan",
        "colab_type": "code",
        "colab": {}
      },
      "source": [
        "# input data\n",
        "\n",
        "np.random.seed(1)\n",
        "A = (np.random.random((1000, 2)) * 4.0 - 2.0).astype(np.float32)\n",
        "V = [np.float32(x * x + y * y <= 1) for (x, y) in A]"
      ],
      "execution_count": 0,
      "outputs": []
    },
    {
      "cell_type": "markdown",
      "metadata": {
        "id": "B7IC0rndlhxL",
        "colab_type": "text"
      },
      "source": [
        "Наймём учителя. Не сами будем учить, а с привлечением внешней помощи в пределах бесплатной квоты Google Colab. У них есть TPU, которые очень быстро научат нашу сеть (когда-нибудь =)), или GPU, которые тоже научат её довольно быстро (сейчас =))."
      ]
    },
    {
      "cell_type": "code",
      "metadata": {
        "id": "1vJJxvq5lgM-",
        "colab_type": "code",
        "outputId": "fa467322-6d49-410a-d0d5-94e5db8b2173",
        "colab": {
          "base_uri": "https://localhost:8080/",
          "height": 50
        }
      },
      "source": [
        "if len(tensorflow.test.gpu_device_name()):  # GPU\n",
        "    mode = 'GPU'\n",
        "elif False:  # TPU https://stackoverflow.com/a/55686370 — пока не готовы\n",
        "    mode = 'TPU'\n",
        "else:\n",
        "    mode = 'CPU'\n",
        "\n",
        "# mode = 'CPU'\n",
        "\n",
        "logging.getLogger('tensorflow').setLevel(logging.INFO)\n",
        "if mode == 'GPU':\n",
        "    strategy = tensorflow.distribute.MirroredStrategy(\n",
        "        devices=[tensorflow.test.gpu_device_name()]\n",
        "    )\n",
        "elif mode == 'TPU':\n",
        "    resolver = tf.distribute.cluster_resolver.TPUClusterResolver(tpu='grpc://' + os.environ['COLAB_TPU_ADDR'])\n",
        "    tf.config.experimental_connect_to_host(resolver.master())\n",
        "    tf.tpu.experimental.initialize_tpu_system(resolver)\n",
        "    strategy = tf.distribute.experimental.TPUStrategy(resolver)\n",
        "else:  # mode == 'CPU'\n",
        "      strategy = tensorflow.distribute.MirroredStrategy(devices=['CPU'])\n",
        "\n",
        "logging.getLogger('tensorflow').setLevel(logging.WARNING)\n",
        "print(f\"Strategy is {strategy}.\")"
      ],
      "execution_count": 4,
      "outputs": [
        {
          "output_type": "stream",
          "text": [
            "INFO:tensorflow:Using MirroredStrategy with devices ('/job:localhost/replica:0/task:0/device:GPU:0',)\n",
            "Strategy is <tensorflow.python.distribute.mirrored_strategy.MirroredStrategy object at 0x7f4922fa8470>.\n"
          ],
          "name": "stdout"
        }
      ]
    },
    {
      "cell_type": "markdown",
      "metadata": {
        "id": "5QFbHJnLmFGb",
        "colab_type": "text"
      },
      "source": [
        "Сконструируем сеть"
      ]
    },
    {
      "cell_type": "code",
      "metadata": {
        "id": "1lThvfVJhwas",
        "colab_type": "code",
        "colab": {
          "base_uri": "https://localhost:8080/",
          "height": 34
        },
        "outputId": "10849820-6cb6-4dfd-aa48-290f31c52557"
      },
      "source": [
        "with strategy.scope() as scope:\n",
        "    model = tf.keras.Sequential([\n",
        "        Input(2),\n",
        "        Dense(18, activation='sigmoid', use_bias=True),\n",
        "        Dense(1, activation='sigmoid', use_bias=False)\n",
        "    ])\n",
        "\n",
        "    model.compile(\n",
        "        optimizer=tf.keras.optimizers.Adam(learning_rate=1e-3),\n",
        "        loss=tf.keras.losses.mean_squared_error,\n",
        "        metrics='accuracy'\n",
        "    )\n",
        "    print(\"Scope:\", scope)"
      ],
      "execution_count": 5,
      "outputs": [
        {
          "output_type": "stream",
          "text": [
            "Scope: <tensorflow.python.distribute.mirrored_strategy.MirroredStrategy object at 0x7f4922fa8470>\n"
          ],
          "name": "stdout"
        }
      ]
    },
    {
      "cell_type": "markdown",
      "metadata": {
        "id": "dWvKG1yehwaw",
        "colab_type": "text"
      },
      "source": [
        "Научим сеть нуже наконец"
      ]
    },
    {
      "cell_type": "code",
      "metadata": {
        "id": "DljfaU_n-v5c",
        "colab_type": "code",
        "colab": {}
      },
      "source": [
        "dataset = tf.data.Dataset.from_tensor_slices((\n",
        "  tf.constant(A, dtype=tf.float32),\n",
        "  tf.constant(V, dtype=tf.float32)\n",
        ")).shuffle(len(A) * 2, reshuffle_each_iteration=True).batch(1000).repeat()"
      ],
      "execution_count": 0,
      "outputs": []
    },
    {
      "cell_type": "code",
      "metadata": {
        "id": "7d3xpJPJhwax",
        "colab_type": "code",
        "colab": {
          "base_uri": "https://localhost:8080/",
          "height": 34
        },
        "outputId": "a591c757-6be8-4500-b686-b519fa9b0c7e"
      },
      "source": [
        "if os.path.isfile(\"smart_colab_duckling.h5\"):\n",
        "    model.load_weights(\"smart_colab_duckling.h5\")\n",
        "    print(\"Сеть уже была научена раньше.\")\n",
        "else:\n",
        "    print(\"Учим сеть...\")\n",
        "    model.fit(\\\n",
        "        dataset, \\\n",
        "        epochs=10, \\\n",
        "        steps_per_epoch=2000 \\\n",
        "      )\n",
        "\n",
        "    print(\"Научили сеть. Схороним.\")\n",
        "    model.save_weights(\"smart_colab_duckling.h5\")"
      ],
      "execution_count": 7,
      "outputs": [
        {
          "output_type": "stream",
          "text": [
            "Сеть уже была научена раньше.\n"
          ],
          "name": "stdout"
        }
      ]
    },
    {
      "cell_type": "markdown",
      "metadata": {
        "id": "_ko6t8Whhwa1",
        "colab_type": "text"
      },
      "source": [
        "Ну и теперь посмотрим, как оно научилось ограничивать круг..."
      ]
    },
    {
      "cell_type": "code",
      "metadata": {
        "id": "U4EXbroyhwa2",
        "colab_type": "code",
        "outputId": "a8b934c5-c52c-49b6-d84b-6c5d78cd3440",
        "colab": {
          "base_uri": "https://localhost:8080/",
          "height": 266
        }
      },
      "source": [
        "import matplotlib.pyplot as plt\n",
        "\n",
        "plt.axis('equal')\n",
        "\n",
        "c = np.r_[-2:2:0.125]\n",
        "\n",
        "# https://stackoverflow.com/a/11144716/539470 =)\n",
        "XY = np.transpose([np.tile(c, len(c)), np.repeat(c, len(c))])\n",
        "\n",
        "Z = model.predict(XY)\n",
        "\n",
        "for (x, y), z in zip(XY, Z):\n",
        "    plt.scatter(x, y, c='red' if z > 0.5 else 'green')\n",
        "\n",
        "plt.show()"
      ],
      "execution_count": 8,
      "outputs": [
        {
          "output_type": "display_data",
          "data": {
            "image/png": "[encoded data removed]",
            "text/plain": [
              "<Figure size 432x288 with 1 Axes>"
            ]
          },
          "metadata": {
            "tags": [],
            "needs_background": "light"
          }
        }
      ]
    },
    {
      "cell_type": "code",
      "metadata": {
        "id": "Q68qwN_xhwa7",
        "colab_type": "code",
        "outputId": "b90aa727-195c-4f49-e10c-01016c9d190c",
        "colab": {
          "base_uri": "https://localhost:8080/",
          "height": 266
        }
      },
      "source": [
        "plt.axis('equal')\n",
        "\n",
        "def saturate(v):\n",
        "    return min(1, max(0, v))\n",
        "\n",
        "for (x, y), z in zip(XY, Z):\n",
        "    plt.scatter(x, y, color=[(1, 1-saturate(z[0]), 1-saturate(z[0]))])\n",
        "\n",
        "plt.show()"
      ],
      "execution_count": 9,
      "outputs": [
        {
          "output_type": "display_data",
          "data": {
            "image/png": "[encoded data removed]",
            "text/plain": [
              "<Figure size 432x288 with 1 Axes>"
            ]
          },
          "metadata": {
            "tags": [],
            "needs_background": "light"
          }
        }
      ]
    }
  ]
}