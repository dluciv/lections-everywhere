{
 "cells": [
  {
   "cell_type": "markdown",
   "metadata": {},
   "source": [
    "# Работа с реляционными БД\n",
    "\n",
    "## Термины\n",
    "\n",
    "* **БД** — база данных, то, где хранятся данные (вот так)\n",
    "* **СУБД** — система управления базами данных — программное обеспечение для работы в с данными\n",
    "* **Отношение** термин [*реляционной алгебры*](https://ru.wikipedia.org/wiki/%D0%A0%D0%B5%D0%BB%D1%8F%D1%86%D0%B8%D0%BE%D0%BD%D0%BD%D0%B0%D1%8F_%D0%B0%D0%BB%D0%B3%D0%B5%D0%B1%D1%80%D0%B0) — аналог таблицы истинности логического отношения\n",
    "* **Таблица** — набор данных в БД, соответствующий отношению в реляционной алгебре\n",
    "* **Схема БД** — модель (формальное описание) данных, включающая в себя описания таблиц, дополнительных ограничений (например, ключей и ссылок между ними) и дополнительных избыточных структур данных (в частности, индексов).\n",
    "\n",
    "## Аномалии редактирования данных\n",
    "\n",
    "При неудачном проектировании схемы легко приести данные в некорректное состояние. Примеры:\n",
    "\n",
    "* Очевидный пример: гражданин получает налоговое начисление за чужое имущество.\n",
    "* Неочевидный (и спорный) пример: студент получает оценку по дисциплине, не входящей в его/её программу.\n",
    "\n",
    "## Целостность и согласованность\n",
    "\n",
    "* Целостность — соответствие данных в базе её модели (аналогично соответствия набора объектов их типам и типам ссылок в статически типизированных языках). Обычно обеспечивается СУБД.\n",
    "* Согласованность — выполнение более сильных ограничений на корректность, не описанных в модели (например, что суммы на входе и выходе денежной транзакции одинаковые). Обеспечивается бизнес-логикой, часто опираясь на поддержку СУБД транзакций.\n",
    "\n",
    "\n",
    "## Структура и нормализация схемы данных\n",
    "\n",
    "1. 1NF — отношение состоит из различных кортежей одинаковой природы, элементы кортежей атомарны\n",
    "2. 2NF — каждый неключевой атрибут функционально зависит от ключа\n",
    "3. 3NF — нет транзитивных функциональных зависимостей\n",
    "  * Boyce-Codd — атрибуты ключа не зависят от неключевых\n",
    "4. 4NF и далее — ограничения, которые уже часто относят к согласованности и реже вносят в схему\n",
    "\n",
    "...\n",
    "\n",
    "См. Дейт К. Дж. Введение в системы баз данных\n",
    "\n",
    "## Поехали уже =)"
   ]
  },
  {
   "cell_type": "code",
   "execution_count": 1,
   "metadata": {},
   "outputs": [],
   "source": [
    "import sqlite3 as dbms\n",
    "\n",
    "conn = dbms.connect(\"students.sqlite3\")  # Как оригинально!\n",
    "cursor = conn.cursor()"
   ]
  },
  {
   "cell_type": "markdown",
   "metadata": {},
   "source": [
    "А дальше соединения с любой реляционной БД и (для любых типов реляционных СУБД) должны (желательно) удовлетворять [Python DB-API 2.0](https://www.python.org/dev/peps/pep-0249/)."
   ]
  },
  {
   "cell_type": "code",
   "execution_count": 2,
   "metadata": {},
   "outputs": [],
   "source": [
    "with open(\"11.drop_ddl.sql\", 'r', encoding='utf-8') as f:\n",
    "    drop_ddl = f.read()\n",
    "with open(\"11.create_ddl.sql\", 'r', encoding='utf-8') as f:\n",
    "    create_ddl = f.read()\n",
    "with open(\"11.insert_dml.sql\", 'r', encoding='utf-8') as f:\n",
    "    insert_dml = f.read()"
   ]
  },
  {
   "cell_type": "code",
   "execution_count": 3,
   "metadata": {},
   "outputs": [],
   "source": [
    "if True:\n",
    "    cursor.executescript(drop_ddl)\n",
    "    conn.commit()"
   ]
  },
  {
   "cell_type": "code",
   "execution_count": 4,
   "metadata": {},
   "outputs": [],
   "source": [
    "if True:\n",
    "    cursor.executescript(create_ddl)\n",
    "    conn.commit()"
   ]
  },
  {
   "cell_type": "markdown",
   "metadata": {},
   "source": [
    "После этого *схема* БД станет такой:\n",
    "\n",
    "![](img/students_scheme.png)"
   ]
  },
  {
   "cell_type": "code",
   "execution_count": 5,
   "metadata": {},
   "outputs": [],
   "source": [
    "cursor.executescript(insert_dml)\n",
    "conn.commit()"
   ]
  },
  {
   "cell_type": "code",
   "execution_count": 6,
   "metadata": {},
   "outputs": [
    {
     "data": {
      "text/html": [
       "<table>\n",
       "<tbody>\n",
       "<tr><td style=\"text-align: right;\">1</td><td>математика и информационные технологии</td></tr>\n",
       "<tr><td style=\"text-align: right;\">2</td><td>теоретическая физика                  </td></tr>\n",
       "</tbody>\n",
       "</table>"
      ],
      "text/plain": [
       "<IPython.core.display.HTML object>"
      ]
     },
     "metadata": {},
     "output_type": "display_data"
    },
    {
     "data": {
      "text/html": [
       "<table>\n",
       "<tbody>\n",
       "<tr><td>математика и информационные технологии</td><td>Антон   </td><td>Битов   </td><td></td></tr>\n",
       "<tr><td>теоретическая физика                  </td><td>Виолетта</td><td>Аргонова</td><td></td></tr>\n",
       "</tbody>\n",
       "</table>"
      ],
      "text/plain": [
       "<IPython.core.display.HTML object>"
      ]
     },
     "metadata": {},
     "output_type": "display_data"
    }
   ],
   "source": [
    "from IPython.display import HTML, display\n",
    "import tabulate  # pip install tabulate\n",
    "\n",
    "cursor.execute(\n",
    "    '''select id, name from programs'''\n",
    ")\n",
    "display(HTML(tabulate.tabulate(cursor.fetchall(), tablefmt='html')))\n",
    "\n",
    "cursor.execute(\n",
    "    '''select programs.name, students.name, surname, patronymic\n",
    "    from programs join students\n",
    "    on programs.id = program_id''')\n",
    "\n",
    "display(HTML(tabulate.tabulate(cursor.fetchall(), tablefmt='html')))"
   ]
  },
  {
   "cell_type": "code",
   "execution_count": 7,
   "metadata": {},
   "outputs": [],
   "source": [
    "name = \"Василий\"\n",
    "surname = \"Пупкин\"\n",
    "card = '199099'\n",
    "cursor.execute(\n",
    "    \"insert into students(program_id, card, surname, name) values(1, ?, ?, ?)\",\n",
    "    (card, surname, name)\n",
    ")\n",
    "conn.commit()"
   ]
  },
  {
   "cell_type": "code",
   "execution_count": 8,
   "metadata": {},
   "outputs": [],
   "source": [
    "conn.close()"
   ]
  },
  {
   "cell_type": "markdown",
   "metadata": {},
   "source": [
    "# А зачем такие сложности с параметрами?\n",
    "\n",
    "Почему нельзя просто конкатенировать строки?\n",
    "\n",
    "![Bobby Tables](https://imgs.xkcd.com/comics/exploits_of_a_mom.png)\n",
    "\n",
    "А потому, что иначе может случиться, как на картике.\n",
    "\n",
    "Не только при редактировании, но и при чтении данных параметры запросов следует добавлять в запрос не при помощи конкатенации строк, а при помощи специальных средств драйвера. В зависимости от драйвера, СУБД и настроек, [синтаксис может отличаться](https://www.python.org/dev/peps/pep-0249/#paramstyle), в SQLite3 по умолчанию используется самый простой — qmark.\n",
    "\n",
    "Попробуйте на настоящей базе данных!"
   ]
  },
  {
   "cell_type": "code",
   "execution_count": 9,
   "metadata": {},
   "outputs": [
    {
     "name": "stdout",
     "output_type": "stream",
     "text": [
      "Name?\n",
      "insert into Students(name) values('');\n"
     ]
    }
   ],
   "source": [
    "name = input(\"Name?\")\n",
    "# try Robert'); DROP TABLE Students; --\n",
    "sql = \"insert into Students(name) values('\" + name + \"');\"\n",
    "print(sql)"
   ]
  },
  {
   "cell_type": "markdown",
   "metadata": {},
   "source": [
    "# Теперь попробуем немного [ORM](https://en.wikipedia.org/wiki/Object-relational_mapping) — [SQLAlchemy](https://ru.wikibooks.org/wiki/SQLAlchemy)"
   ]
  },
  {
   "cell_type": "code",
   "execution_count": 10,
   "metadata": {},
   "outputs": [],
   "source": [
    "import sqlalchemy\n",
    "from sqlalchemy import Table, Column, Integer, String, MetaData, ForeignKey\n",
    "from sqlalchemy.orm import sessionmaker, relationship\n",
    "from sqlalchemy.ext.declarative import declarative_base\n",
    "\n",
    "DeclBase = declarative_base()"
   ]
  },
  {
   "cell_type": "code",
   "execution_count": 11,
   "metadata": {},
   "outputs": [],
   "source": [
    "engine = sqlalchemy.create_engine('sqlite:///students.sqlite3', echo=False)  # echo=True для логгинга\n",
    "Session = sessionmaker(bind=engine)\n",
    "session = Session()"
   ]
  },
  {
   "cell_type": "code",
   "execution_count": 12,
   "metadata": {},
   "outputs": [],
   "source": [
    "class Program(DeclBase):\n",
    "    __tablename__ = 'programs'\n",
    "    id = Column(Integer, primary_key=True)\n",
    "    name = Column(String)\n",
    "\n",
    "    students = relationship(\"Student\", backref=\"program\")\n",
    "\n",
    "    def __init__(self, name):\n",
    "        self.name = name\n",
    "\n",
    "class Student(DeclBase):\n",
    "    __tablename__ = 'students'\n",
    "    id = Column(Integer, primary_key=True)\n",
    "    card = Column(String)\n",
    "    surname = Column(String)\n",
    "    name = Column(String)\n",
    "    patronymic = Column(String)\n",
    "    \n",
    "    program_id = Column(Integer, ForeignKey('programs.id'))\n",
    "    \n",
    "    def __init__(self, card, surname, name, patronymic, program):\n",
    "        self.card = card\n",
    "        self.surname = surname\n",
    "        self.name = name\n",
    "        self.patronymic = patronymic\n",
    "        self.program = program"
   ]
  },
  {
   "cell_type": "code",
   "execution_count": 13,
   "metadata": {},
   "outputs": [],
   "source": [
    "se = Program(\"Программная инженерия\")\n",
    "\n",
    "st1 = Student(\"002002\", \"Иванов\", \"Пётр\", \"Сидорович\", se)\n",
    "st2 = Student(\"002003\", \"Петрова\", \"Исидора\", \"Ивановна\", se)\n",
    "\n",
    "session.add_all([st1, st2])  # se само\n",
    "session.commit()"
   ]
  },
  {
   "cell_type": "code",
   "execution_count": 14,
   "metadata": {},
   "outputs": [
    {
     "name": "stdout",
     "output_type": "stream",
     "text": [
      "Программы и студенты\n",
      "Программа:  математика и информационные технологии\n",
      "-  Антон\n",
      "-  Василий\n",
      "Программа:  теоретическая физика\n",
      "-  Виолетта\n",
      "Программа:  Программная инженерия\n",
      "-  Пётр\n",
      "-  Исидора\n"
     ]
    }
   ],
   "source": [
    "import sys\n",
    "\n",
    "print(\"Программы и студенты\")\n",
    "for p in session.query(Program):\n",
    "    print(\"Программа: \", p.name)\n",
    "    for s in p.students:\n",
    "        print(\"- \", s.name)"
   ]
  },
  {
   "cell_type": "code",
   "execution_count": 15,
   "metadata": {},
   "outputs": [
    {
     "name": "stdout",
     "output_type": "stream",
     "text": [
      "Программы и студенты\n",
      "Программа:  математика и информационные технологии\n",
      "-  Антон\n",
      "-  Василий\n",
      "Программа:  теоретическая физика\n",
      "-  Виолетта\n",
      "-  Исидора\n",
      "Программа:  Программная инженерия\n",
      "-  Пётр\n"
     ]
    }
   ],
   "source": [
    "pr = session.query(Program).filter_by(name=\"теоретическая физика\")[0]\n",
    "st = session.query(Student).filter_by(name=\"Исидора\")[0]\n",
    "\n",
    "st.program = pr\n",
    "session.commit()\n",
    "\n",
    "print(\"Программы и студенты\")\n",
    "for p in session.query(Program):\n",
    "    print(\"Программа: \", p.name)\n",
    "    for s in p.students:\n",
    "        print(\"- \", s.name)"
   ]
  },
  {
   "cell_type": "code",
   "execution_count": null,
   "metadata": {},
   "outputs": [],
   "source": []
  }
 ],
 "metadata": {
  "kernelspec": {
   "display_name": "Python 3 (ipykernel)",
   "language": "python",
   "name": "python3"
  },
  "language_info": {
   "codemirror_mode": {
    "name": "ipython",
    "version": 3
   },
   "file_extension": ".py",
   "mimetype": "text/x-python",
   "name": "python",
   "nbconvert_exporter": "python",
   "pygments_lexer": "ipython3",
   "version": "3.10.4"
  }
 },
 "nbformat": 4,
 "nbformat_minor": 4
}
