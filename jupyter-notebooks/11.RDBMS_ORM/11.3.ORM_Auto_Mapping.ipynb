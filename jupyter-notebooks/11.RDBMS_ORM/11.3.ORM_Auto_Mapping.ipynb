{
 "cells": [
  {
   "cell_type": "markdown",
   "metadata": {},
   "source": [
    "# Мы, похоже, сделали что-то лишнее?..\n",
    "\n",
    "Да, описали одновременно и объектную модель (классы), и схему. А ORM позволяют:\n",
    "\n",
    "* Построить схему БД по объектной модели\n",
    "  * [Просто в «объектном» (без SQL) стиле](https://docs.sqlalchemy.org/en/14/core/metadata.html)\n",
    "  * С дополнительными «прибамбасами» — [практически из «нормальных» классов](https://flask-sqlalchemy.palletsprojects.com/en/2.x/quickstart/#a-minimal-application)\n",
    "* Восстановить объектную модель по схеме БД (в динамических языках — налету), см. ниже.\n",
    "\n",
    "Какой вариант «правильный»? Зависит от того, что первично — база, или классы с бизнес-логикой"
   ]
  },
  {
   "cell_type": "code",
   "execution_count": null,
   "metadata": {},
   "outputs": [],
   "source": [
    "from sqlalchemy.ext.automap import automap_base\n",
    "from sqlalchemy.orm import Session\n",
    "from sqlalchemy import create_engine\n",
    "\n",
    "Base = automap_base()\n",
    "engine = create_engine(\"sqlite:///students.sqlite3\")\n",
    "session = Session(engine)"
   ]
  },
  {
   "cell_type": "markdown",
   "metadata": {},
   "source": [
    "А теперь волшебство!"
   ]
  },
  {
   "cell_type": "code",
   "execution_count": null,
   "metadata": {},
   "outputs": [],
   "source": [
    "Base.prepare(engine, reflect=True)\n",
    "students_classes = Base.classes\n",
    "for c in students_classes:\n",
    "    print(c)"
   ]
  },
  {
   "cell_type": "code",
   "execution_count": null,
   "metadata": {},
   "outputs": [],
   "source": [
    "Program = students_classes.programs\n",
    "Student = students_classes.students\n",
    "Course =  students_classes.courses\n",
    "ProgramsCourses = students_classes.programs_courses\n",
    "Marks = students_classes.marks"
   ]
  },
  {
   "cell_type": "code",
   "execution_count": null,
   "metadata": {},
   "outputs": [],
   "source": [
    "s1 = Student(\n",
    "    card=\"x12234\",\n",
    "    surname=\"Пушкин\",\n",
    "    name=\"Александр\",\n",
    "    patronymic=\"Сергеевич\"\n",
    ")\n",
    "s2 = Student(\n",
    "    card=\"xxxxxx\",\n",
    "    surname=\"Горчаков\",\n",
    "    name=\"Александр\",\n",
    "    patronymic=\"Михайлович\"\n",
    ")\n",
    "l = Program(name=\"Царскосельский лицей\")\n",
    "\n",
    "l.students_collection += [s1, s2]\n",
    "\n",
    "with session.begin():\n",
    "    session.add_all([l, s1, s2])\n",
    "    # session.commit()  -- само"
   ]
  },
  {
   "cell_type": "code",
   "execution_count": null,
   "metadata": {},
   "outputs": [],
   "source": [
    "with session.begin():\n",
    "    cl = Course(name=\"Латынь\")\n",
    "    ct = Course(name=\"Закон Божий\")\n",
    "    pct = ProgramsCourses(programs = l, courses = ct, semester_number = 1)\n",
    "    pcl = ProgramsCourses(programs = l, courses = cl, semester_number = 1)\n",
    "    session.add_all([pct, pcl])"
   ]
  },
  {
   "cell_type": "code",
   "execution_count": null,
   "metadata": {},
   "outputs": [],
   "source": [
    "for p in session.query(Program):\n",
    "    print(\"Программа: \", p.name)\n",
    "    for pc in p.programs_courses_collection:\n",
    "        print(\" - \", pc.courses.name)"
   ]
  }
 ],
 "metadata": {
  "kernelspec": {
   "display_name": "Python 3",
   "language": "python",
   "name": "python3"
  },
  "language_info": {
   "codemirror_mode": {
    "name": "ipython",
    "version": 3
   },
   "file_extension": ".py",
   "mimetype": "text/x-python",
   "name": "python",
   "nbconvert_exporter": "python",
   "pygments_lexer": "ipython3",
   "version": "3.9.1"
  }
 },
 "nbformat": 4,
 "nbformat_minor": 4
}
